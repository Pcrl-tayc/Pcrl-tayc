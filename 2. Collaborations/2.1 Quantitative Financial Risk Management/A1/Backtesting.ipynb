{
 "cells": [
  {
   "cell_type": "code",
   "execution_count": 1,
   "metadata": {},
   "outputs": [],
   "source": [
    "# Data processing\n",
    "import warnings\n",
    "import numpy as np\n",
    "import pandas as pd\n",
    "import datetime as dt\n",
    "\n",
    "# Graphing\n",
    "from matplotlib import pyplot as plt\n",
    "\n",
    "# Arch\n",
    "from arch import arch_model\n",
    "\n",
    "# Statistics\n",
    "from scipy.stats import norm\n",
    "from scipy.stats import t as studentst\n",
    "from scipy import stats\n",
    "\n",
    "\n",
    "from tqdm import tqdm\n",
    "\n",
    "import sys\n",
    "import warnings\n",
    "\n",
    "if not sys.warnoptions:\n",
    "    warnings.simplefilter(\"ignore\")\n",
    "\n",
    "import collections"
   ]
  },
  {
   "cell_type": "code",
   "execution_count": 2,
   "metadata": {},
   "outputs": [],
   "source": [
    "# Initial investment and currency per stock in dollars\n",
    "investment = {\n",
    "    \"^HSI\": [500_000, 'HKD'],  # Hang Seng Index\n",
    "    \"^AEX\": [500_000, 'EUR'],  # AEX Index\n",
    "    \"^GSPC\": [500_000, 'USD'],  # S&P 500 Index\n",
    "    \"^N225\": [500_000, 'JPY']  # Nikkei 225\n",
    "}\n",
    "\n",
    "relative_weights = np.array([0.5, 0.5, 0.5, 0.5, -1.0])\n",
    "absolute_weights = np.array([500_000, 500_000, 500_000, 500_000, -1_000_000])\n",
    "\n",
    "# Get prices from start date till end date\n",
    "start = \"2010-01-01\"\n",
    "end = \"2021-04-01\"\n",
    "\n",
    "df_losses = pd.read_csv('Data\\LinearLosses.csv',\n",
    "                        parse_dates=True, index_col=0, )\n",
    "\n",
    "# Set up lists containing the confidence levels\n",
    "confidence_levels = [0.975, 0.99]"
   ]
  },
  {
   "cell_type": "code",
   "execution_count": 3,
   "metadata": {},
   "outputs": [
    {
     "data": {
      "text/html": [
       "<div>\n",
       "<style scoped>\n",
       "    .dataframe tbody tr th:only-of-type {\n",
       "        vertical-align: middle;\n",
       "    }\n",
       "\n",
       "    .dataframe tbody tr th {\n",
       "        vertical-align: top;\n",
       "    }\n",
       "\n",
       "    .dataframe thead th {\n",
       "        text-align: right;\n",
       "    }\n",
       "</style>\n",
       "<table border=\"1\" class=\"dataframe\">\n",
       "  <thead>\n",
       "    <tr style=\"text-align: right;\">\n",
       "      <th></th>\n",
       "      <th>AEX</th>\n",
       "      <th>GSPC</th>\n",
       "      <th>HSI</th>\n",
       "      <th>N225</th>\n",
       "      <th>Bond</th>\n",
       "    </tr>\n",
       "    <tr>\n",
       "      <th>Date</th>\n",
       "      <th></th>\n",
       "      <th></th>\n",
       "      <th></th>\n",
       "      <th></th>\n",
       "      <th></th>\n",
       "    </tr>\n",
       "  </thead>\n",
       "  <tbody>\n",
       "    <tr>\n",
       "      <th>2010-01-05</th>\n",
       "      <td>-0.002949</td>\n",
       "      <td>-0.007167</td>\n",
       "      <td>-0.025363</td>\n",
       "      <td>-0.016715</td>\n",
       "      <td>0.000150</td>\n",
       "    </tr>\n",
       "    <tr>\n",
       "      <th>2010-01-06</th>\n",
       "      <td>-0.001580</td>\n",
       "      <td>0.002099</td>\n",
       "      <td>-0.003576</td>\n",
       "      <td>0.006556</td>\n",
       "      <td>0.000652</td>\n",
       "    </tr>\n",
       "  </tbody>\n",
       "</table>\n",
       "</div>"
      ],
      "text/plain": [
       "                 AEX      GSPC       HSI      N225      Bond\n",
       "Date                                                        \n",
       "2010-01-05 -0.002949 -0.007167 -0.025363 -0.016715  0.000150\n",
       "2010-01-06 -0.001580  0.002099 -0.003576  0.006556  0.000652"
      ]
     },
     "execution_count": 3,
     "metadata": {},
     "output_type": "execute_result"
    }
   ],
   "source": [
    "df_losses.head(2)"
   ]
  },
  {
   "cell_type": "code",
   "execution_count": 4,
   "metadata": {},
   "outputs": [],
   "source": [
    "# Functions to calculate VaR and ES\n",
    "def normal_var(mean, std, alpha):\n",
    "    return mean + std * norm.ppf(alpha)\n",
    "\n",
    "\n",
    "def normal_es(mean, std, alpha):\n",
    "    return mean + std * norm.pdf(norm.ppf(alpha)) / (1 - alpha)\n",
    "\n",
    "\n",
    "def t_var(v, mean, std, alpha):\n",
    "    t_std = std / np.sqrt(v / (v-2))\n",
    "    return mean + std * studentst.ppf(alpha, v)\n",
    "\n",
    "\n",
    "def t_es(v, mean, std, alpha):\n",
    "    t_std = std / np.sqrt(v / (v-2))\n",
    "    return mean + std * studentst.pdf(studentst.ppf(alpha, v), v) / (1 - alpha) * \\\n",
    "        (v + studentst.ppf(alpha, v)**2) / (v-1)\n",
    "\n",
    "\n",
    "def var_covar(returns, weights):\n",
    "    mean = returns.mean()\n",
    "    pf_mean = np.sum(mean*weights)\n",
    "\n",
    "    cov_matrix = returns.cov()\n",
    "    pf_std = np.sqrt(np.dot(weights.T, np.dot(cov_matrix, weights)))\n",
    "\n",
    "    return pf_mean, pf_std\n",
    "\n",
    "def empirical_var(x, alpha):\n",
    "    return np.quantile(np.sort(x), alpha, interpolation='linear')\n",
    "\n",
    "\n",
    "def empirical_es(x, alpha):\n",
    "    var = empirical_var(x, alpha)\n",
    "    return x[x >= var].mean()"
   ]
  },
  {
   "cell_type": "code",
   "execution_count": 5,
   "metadata": {},
   "outputs": [],
   "source": [
    "def VaR_VC(absolute_weights: np.ndarray, df_returns: pd.DataFrame, windows: list, drop: bool) -> pd.DataFrame:\n",
    "    \"\"\"Creates Value at Risk figures for Variance Covariance Methods\n",
    "\n",
    "    Args:\n",
    "        absolute_weights (np.ndarray): array with weights       \n",
    "        df_returns (pd.DataFrame): dataframe with returns\n",
    "        windows (list): list of windows for VaR estimation\n",
    "        drop (bool): boolean to drop top 20 worst losses\n",
    "\n",
    "    Returns:\n",
    "        pd.DataFrame: dataframe with risk figures\n",
    "    \"\"\"\n",
    "\n",
    "    df = pd.DataFrame(index=df_returns.index)\n",
    "    df['Returns'] = np.sum(df_returns * absolute_weights, axis=1)\n",
    "\n",
    "    if drop:\n",
    "        to_drop = df.sort_values('Returns', ascending=False)[:20].index\n",
    "        df = df.drop(to_drop)\n",
    "        df_returns = df_returns.drop(to_drop)\n",
    "\n",
    "    alphas = [0.975, 0.990]\n",
    "    for alpha in alphas:\n",
    "        for window in windows:\n",
    "\n",
    "            means = np.empty(len(df_returns))\n",
    "            stds = np.empty(len(df_returns))\n",
    "            means[:] = np.NaN\n",
    "            stds[:] = np.NaN\n",
    "            for t in tqdm(range(window, len(df_returns))):\n",
    "                means[t], stds[t] = var_covar(\n",
    "                    df_returns[t-window:t], absolute_weights)\n",
    "            df[f'VaR_VC_{window}_{alpha}_N'] = normal_var(means, stds, alpha)\n",
    "            df[f'ES_VC_{window}_{alpha}_N'] = normal_es(means, stds, alpha)\n",
    "\n",
    "            for dof in [5]:\n",
    "                df[f'VaR_VC_{window}_{alpha}_t{dof}'] = t_var(\n",
    "                    dof, means, stds, alpha)\n",
    "                df[f'ES_VC_{window}_{alpha}_t{dof}'] = t_es(\n",
    "                    dof, means, stds, alpha)\n",
    "    df.drop('Returns', axis=1, inplace=True)\n",
    "    return df"
   ]
  },
  {
   "cell_type": "code",
   "execution_count": 6,
   "metadata": {},
   "outputs": [
    {
     "name": "stderr",
     "output_type": "stream",
     "text": [
      "100%|█████████████████████████████████████████████████████████████████████████████| 1918/1918 [00:04<00:00, 415.77it/s]\n",
      "100%|█████████████████████████████████████████████████████████████████████████████| 1918/1918 [00:05<00:00, 379.08it/s]\n"
     ]
    }
   ],
   "source": [
    "df_VaR_VC = VaR_VC(absolute_weights, df_losses, windows=[300], drop=False)"
   ]
  },
  {
   "cell_type": "code",
   "execution_count": 7,
   "metadata": {},
   "outputs": [
    {
     "data": {
      "text/plain": [
       "<AxesSubplot:xlabel='Date'>"
      ]
     },
     "execution_count": 7,
     "metadata": {},
     "output_type": "execute_result"
    },
    {
     "data": {
      "image/png": "[encoded data removed]",
      "text/plain": [
       "<Figure size 432x288 with 1 Axes>"
      ]
     },
     "metadata": {
      "needs_background": "light"
     },
     "output_type": "display_data"
    }
   ],
   "source": [
    "df_VaR_VC.plot()"
   ]
  },
  {
   "cell_type": "code",
   "execution_count": 8,
   "metadata": {},
   "outputs": [],
   "source": [
    "def VaR_HS(absolute_weights: np.ndarray, df_returns: pd.DataFrame, windows: list) -> pd.DataFrame:\n",
    "    \"\"\"Creates Value at Risk figures for Historical Simulation method\n",
    "    Args:\n",
    "        absolute_weights (np.ndarray): array with weights \n",
    "        df_returns (pd.DataFrame): dataframe with returns\n",
    "    \"\"\"\n",
    "    df = pd.DataFrame(index=df_returns.index)\n",
    "    df['Returns'] = np.sum(df_returns * absolute_weights, axis=1)\n",
    "    alphas = [0.975, 0.990]\n",
    "\n",
    "    for alpha in alphas:\n",
    "        for window in windows:\n",
    "            df[f'VaR_HS_{window}_{alpha}_N'] = np.NaN\n",
    "            df[f'ES_HS_{window}_{alpha}_N'] = np.NaN\n",
    "            for t in tqdm(range(window, len(df_returns))):\n",
    "                df[f'VaR_HS_{window}_{alpha}_N'].iloc[t] = empirical_var(\n",
    "                    df['Returns'].iloc[t-window:t], alpha)\n",
    "                df[f'ES_HS_{window}_{alpha}_N'].iloc[t] = empirical_es(\n",
    "                    df['Returns'].iloc[t-window:t], alpha)\n",
    "    df.drop('Returns', axis=1, inplace=True)\n",
    "    return df"
   ]
  },
  {
   "cell_type": "code",
   "execution_count": 9,
   "metadata": {},
   "outputs": [
    {
     "name": "stderr",
     "output_type": "stream",
     "text": [
      "100%|█████████████████████████████████████████████████████████████████████████████| 1918/1918 [00:07<00:00, 262.51it/s]\n",
      "100%|█████████████████████████████████████████████████████████████████████████████| 1918/1918 [00:06<00:00, 289.51it/s]\n"
     ]
    }
   ],
   "source": [
    "df_VaR_HS = VaR_HS(absolute_weights, df_losses, windows=[300])"
   ]
  },
  {
   "cell_type": "code",
   "execution_count": 10,
   "metadata": {},
   "outputs": [
    {
     "data": {
      "text/plain": [
       "<AxesSubplot:xlabel='Date'>"
      ]
     },
     "execution_count": 10,
     "metadata": {},
     "output_type": "execute_result"
    },
    {
     "data": {
      "image/png": "[encoded data removed]",
      "text/plain": [
       "<Figure size 432x288 with 1 Axes>"
      ]
     },
     "metadata": {
      "needs_background": "light"
     },
     "output_type": "display_data"
    }
   ],
   "source": [
    "df_VaR_HS.plot()"
   ]
  },
  {
   "cell_type": "code",
   "execution_count": 11,
   "metadata": {},
   "outputs": [],
   "source": [
    "def FHS_EWMA(absolute_weights: np.ndarray, df_losses:pd.DataFrame,confidence_levels:list, lambd:float)->pd.DataFrame:\n",
    "    burn_window = 100\n",
    "    moving_window = 300\n",
    "\n",
    "    # Get burn window variance\n",
    "    sigma2_0 = df_losses[:burn_window].var()\n",
    "\n",
    "    # Create numpy arrays to hold values\n",
    "    sigma2 = np.zeros(shape=(len(df_losses)+1, len(df_losses.columns)))\n",
    "    Z_t = np.zeros(shape=(len(df_losses), len(df_losses.columns)))\n",
    "\n",
    "    # Assign variance\n",
    "    sigma2[burn_window,:] = sigma2_0\n",
    "\n",
    "    # Generate Z_t\n",
    "    for t in range(burn_window, len(df_losses)):\n",
    "        sigma2[t+1,:] = lambd * sigma2[t,:] + (1-lambd) * df_losses.iloc[t]**2\n",
    "        Z_t[t] = (df_losses.iloc[t].values / np.sqrt(sigma2[t,:]))\n",
    "\n",
    "    aVaR = np.zeros(shape=(len(df_losses), 2))\n",
    "    aES = np.zeros(shape=(len(df_losses), 2))\n",
    "    for t in range(burn_window+moving_window, len(df_losses)):\n",
    "        X_ft = Z_t[t-moving_window:t] * np.sqrt(sigma2[t+1,:])\n",
    "        PnL = np.sum(X_ft * absolute_weights, axis=1)\n",
    "        for level in range(len(confidence_levels)):\n",
    "            aVaR[t,level] = empirical_var(PnL, alpha=confidence_levels[level])\n",
    "            aES[t, level] = empirical_es(PnL, alpha=confidence_levels[level])\n",
    "\n",
    "    df_VaR = pd.DataFrame(columns=['VaR_FHS_300_0.975_N', 'VaR_FHS_300_0.99_N', 'ES_FHS_300_0.975_N', 'ES_FHS_300_0.99_N'], index=df_losses.index)\n",
    "    df_VaR.iloc[:,:] = np.concatenate((aVaR, aES), axis=1) \n",
    "    return sigma2,df_VaR   \n"
   ]
  },
  {
   "cell_type": "code",
   "execution_count": 12,
   "metadata": {},
   "outputs": [
    {
     "ename": "TypeError",
     "evalue": "unsupported operand type(s) for -: 'int' and 'list'",
     "output_type": "error",
     "traceback": [
      "\u001b[1;31m---------------------------------------------------------------------------\u001b[0m",
      "\u001b[1;31mTypeError\u001b[0m                                 Traceback (most recent call last)",
      "\u001b[1;32m<ipython-input-12-267c6dd07b38>\u001b[0m in \u001b[0;36m<module>\u001b[1;34m\u001b[0m\n\u001b[1;32m----> 1\u001b[1;33m \u001b[0mdf_VaR_FHS\u001b[0m \u001b[1;33m=\u001b[0m \u001b[0mFHS_EWMA\u001b[0m\u001b[1;33m(\u001b[0m\u001b[0mabsolute_weights\u001b[0m\u001b[1;33m,\u001b[0m \u001b[0mdf_losses\u001b[0m\u001b[1;33m,\u001b[0m\u001b[1;36m0.03\u001b[0m\u001b[1;33m,\u001b[0m\u001b[1;33m[\u001b[0m\u001b[1;36m300\u001b[0m\u001b[1;33m]\u001b[0m\u001b[1;33m)\u001b[0m\u001b[1;33m\u001b[0m\u001b[1;33m\u001b[0m\u001b[0m\n\u001b[0m",
      "\u001b[1;32m<ipython-input-11-cd4b1febc126>\u001b[0m in \u001b[0;36mFHS_EWMA\u001b[1;34m(absolute_weights, df_losses, confidence_levels, lambd)\u001b[0m\n\u001b[0;32m     15\u001b[0m     \u001b[1;31m# Generate Z_t\u001b[0m\u001b[1;33m\u001b[0m\u001b[1;33m\u001b[0m\u001b[1;33m\u001b[0m\u001b[0m\n\u001b[0;32m     16\u001b[0m     \u001b[1;32mfor\u001b[0m \u001b[0mt\u001b[0m \u001b[1;32min\u001b[0m \u001b[0mrange\u001b[0m\u001b[1;33m(\u001b[0m\u001b[0mburn_window\u001b[0m\u001b[1;33m,\u001b[0m \u001b[0mlen\u001b[0m\u001b[1;33m(\u001b[0m\u001b[0mdf_losses\u001b[0m\u001b[1;33m)\u001b[0m\u001b[1;33m)\u001b[0m\u001b[1;33m:\u001b[0m\u001b[1;33m\u001b[0m\u001b[1;33m\u001b[0m\u001b[0m\n\u001b[1;32m---> 17\u001b[1;33m         \u001b[0msigma2\u001b[0m\u001b[1;33m[\u001b[0m\u001b[0mt\u001b[0m\u001b[1;33m+\u001b[0m\u001b[1;36m1\u001b[0m\u001b[1;33m,\u001b[0m\u001b[1;33m:\u001b[0m\u001b[1;33m]\u001b[0m \u001b[1;33m=\u001b[0m \u001b[0mlambd\u001b[0m \u001b[1;33m*\u001b[0m \u001b[0msigma2\u001b[0m\u001b[1;33m[\u001b[0m\u001b[0mt\u001b[0m\u001b[1;33m,\u001b[0m\u001b[1;33m:\u001b[0m\u001b[1;33m]\u001b[0m \u001b[1;33m+\u001b[0m \u001b[1;33m(\u001b[0m\u001b[1;36m1\u001b[0m\u001b[1;33m-\u001b[0m\u001b[0mlambd\u001b[0m\u001b[1;33m)\u001b[0m \u001b[1;33m*\u001b[0m \u001b[0mdf_losses\u001b[0m\u001b[1;33m.\u001b[0m\u001b[0miloc\u001b[0m\u001b[1;33m[\u001b[0m\u001b[0mt\u001b[0m\u001b[1;33m]\u001b[0m\u001b[1;33m**\u001b[0m\u001b[1;36m2\u001b[0m\u001b[1;33m\u001b[0m\u001b[1;33m\u001b[0m\u001b[0m\n\u001b[0m\u001b[0;32m     18\u001b[0m         \u001b[0mZ_t\u001b[0m\u001b[1;33m[\u001b[0m\u001b[0mt\u001b[0m\u001b[1;33m]\u001b[0m \u001b[1;33m=\u001b[0m \u001b[1;33m(\u001b[0m\u001b[0mdf_losses\u001b[0m\u001b[1;33m.\u001b[0m\u001b[0miloc\u001b[0m\u001b[1;33m[\u001b[0m\u001b[0mt\u001b[0m\u001b[1;33m]\u001b[0m\u001b[1;33m.\u001b[0m\u001b[0mvalues\u001b[0m \u001b[1;33m/\u001b[0m \u001b[0mnp\u001b[0m\u001b[1;33m.\u001b[0m\u001b[0msqrt\u001b[0m\u001b[1;33m(\u001b[0m\u001b[0msigma2\u001b[0m\u001b[1;33m[\u001b[0m\u001b[0mt\u001b[0m\u001b[1;33m,\u001b[0m\u001b[1;33m:\u001b[0m\u001b[1;33m]\u001b[0m\u001b[1;33m)\u001b[0m\u001b[1;33m)\u001b[0m\u001b[1;33m\u001b[0m\u001b[1;33m\u001b[0m\u001b[0m\n\u001b[0;32m     19\u001b[0m \u001b[1;33m\u001b[0m\u001b[0m\n",
      "\u001b[1;31mTypeError\u001b[0m: unsupported operand type(s) for -: 'int' and 'list'"
     ]
    }
   ],
   "source": [
    "df_VaR_FHS = FHS_EWMA(absolute_weights, df_losses,0.03,[300])"
   ]
  },
  {
   "cell_type": "code",
   "execution_count": null,
   "metadata": {},
   "outputs": [],
   "source": [
    "def VaR_CCC(absolute_weights, df_losses, split_dates):\n",
    "    confidence_levels = [0.975, 0.99]\n",
    "    # This kind of dict lets you initiate a key and append to it simultaneously\n",
    "    rolling_var = collections.defaultdict(list)\n",
    "    rolling_es = collections.defaultdict(list)\n",
    "    # Store forecasted conditional volatilities on a rolling window basis\n",
    "    rolling_forecasted_volatilities = pd.DataFrame()\n",
    "    # Store rolling correlation matrix\n",
    "    rolling_corr_matrix = collections.defaultdict(list)\n",
    "    # Year 1 and 2 are used to estimate the VaR for year 3,# Year 2 and 3 are used to estimate the VaR for year 4,# Etc.\n",
    "    df_returns = df_losses * absolute_weights\n",
    "    for i in range(len(split_dates) - 3):\n",
    "        # Forecast volatilities with a rolling window using a GARCH(1,1)\n",
    "        forecasted_volatility = pd.DataFrame(\n",
    "            index=df_returns[split_dates[i+2]:split_dates[i+3]].index)\n",
    "        for instrument in df_losses.columns:\n",
    "            garch11 = arch_model(df_losses[instrument],\n",
    "                                 p=1, q=1, dist='Normal', vol='Garch', mean='Zero')\n",
    "            res = garch11.fit(\n",
    "                update_freq=10, last_obs=split_dates[i+2], disp='off', show_warning=False)\n",
    "            forecasts = res.forecast(horizon=1, start=split_dates[i+2])\n",
    "            forecasted_variance = forecasts.variance[split_dates[i+2]\n",
    "                :split_dates[i+3]]\n",
    "            forecasted_volatility[instrument] = np.sqrt(forecasted_variance)\n",
    "\n",
    "        # Append the forecasted year to the rolling_forecasted_volatilities dataframe\n",
    "        rolling_forecasted_volatilities = rolling_forecasted_volatilities.append(\n",
    "            forecasted_volatility)\n",
    "        # Append rolling correlation matrix to list\n",
    "        rolling_corr = df_returns[split_dates[i]:split_dates[i+2]].corr()\n",
    "        rolling_corr_matrix[split_dates[i+3]].append(rolling_corr)\n",
    "\n",
    "    # Use the conditional volatilities and correlations matrices to calculate the VaR and ES,# The approach is similar to the var-covar method in that the covariance matrix is used,# to calculate VaR and ES.\n",
    "    var_975_1d_ccc = []\n",
    "    var_990_1d_ccc = []\n",
    "    es_975_1d_ccc = []\n",
    "    es_990_1d_ccc = []\n",
    "    for index, row in rolling_forecasted_volatilities.iterrows():\n",
    "        # For each conditional volatility in the dataframe calculate the VaR and ES\n",
    "        vola = np.array(row)\n",
    "        # Refresh the correlation matrix each year\n",
    "        for date in list(rolling_corr_matrix.keys())[0:10]:\n",
    "            if index < dt.date.fromisoformat(date):\n",
    "                cons_corr = rolling_corr_matrix.get(date)\n",
    "                break\n",
    "        cov = vola * vola * cons_corr[0]\n",
    "        # print(cov)\n",
    "        ccc_std_euro = np.sqrt(\n",
    "            absolute_weights.T.dot(cov).dot(absolute_weights))\n",
    "        var_975_1d_ccc_value = normal_var(0, ccc_std_euro, confidence_levels[0])\n",
    "        var_990_1d_ccc_value = normal_var(0, ccc_std_euro, confidence_levels[1])\n",
    "        es_975_1d_ccc_value = normal_es(0, ccc_std_euro, confidence_levels[0])\n",
    "        es_990_1d_ccc_value = normal_es(0, ccc_std_euro, confidence_levels[1])\n",
    "        var_975_1d_ccc.append(var_975_1d_ccc_value)\n",
    "        var_990_1d_ccc.append(var_990_1d_ccc_value)\n",
    "        es_975_1d_ccc.append(es_975_1d_ccc_value)\n",
    "        es_990_1d_ccc.append(es_990_1d_ccc_value)\n",
    "\n",
    "    # Store estimates in dataframe\n",
    "    ccc = pd.DataFrame(data=[var_975_1d_ccc, var_990_1d_ccc,es_975_1d_ccc, es_990_1d_ccc]).transpose()\n",
    "    ccc.columns = ['VaR_CCC_1D_0.975_N', 'VaR_CCC_1D_0.99_N',\n",
    "                   'ES_CCC_1D_0.975_N', 'ES_CCC_1D_0.99_N']\n",
    "    \n",
    "    ccc = ccc.set_index(rolling_forecasted_volatilities.index)\n",
    "\n",
    "    return ccc"
   ]
  },
  {
   "cell_type": "code",
   "execution_count": null,
   "metadata": {},
   "outputs": [],
   "source": [
    "split_dates = ['2010-01-01', '2010-12-31', '2011-12-31', '2012-12-31', '2013-12-31',\n",
    "               '2014-12-31', '2015-12-31', '2016-12-31', '2017-12-31', '2018-12-31', '2019-12-31', '2020-12-31', \"2021-04-01\"]\n",
    "df_VaR_CCC = VaR_CCC(absolute_weights, df_losses, split_dates)\n"
   ]
  },
  {
   "cell_type": "markdown",
   "metadata": {},
   "source": [
    "## Backtesting"
   ]
  },
  {
   "cell_type": "code",
   "execution_count": null,
   "metadata": {},
   "outputs": [],
   "source": [
    "backtest = pd.DataFrame(index = df_losses.index)\n",
    "backtest['Losses'] = np.sum(df_losses * absolute_weights, axis=1)\n",
    "backtest = pd.concat([backtest,df_VaR_VC,df_VaR_HS, df_VaR_FHS, df_VaR_CCC], axis=1)"
   ]
  },
  {
   "cell_type": "code",
   "execution_count": null,
   "metadata": {},
   "outputs": [],
   "source": [
    "len(backtest)\n",
    "len(df_VaR_FHS)\n"
   ]
  },
  {
   "cell_type": "code",
   "execution_count": null,
   "metadata": {},
   "outputs": [],
   "source": [
    "backtest = backtest.dropna()"
   ]
  },
  {
   "cell_type": "code",
   "execution_count": null,
   "metadata": {},
   "outputs": [],
   "source": [
    "backtest"
   ]
  },
  {
   "cell_type": "code",
   "execution_count": null,
   "metadata": {},
   "outputs": [],
   "source": [
    "# Initialize dataframe to store test statistics\n",
    "zscores = pd.DataFrame()\n",
    "\n",
    "# Initialize dict to store pvalues\n",
    "var_pvalues = {}\n",
    "\n",
    "# Initialize Violations\n",
    "violation = pd.DataFrame(index = backtest.index)\n",
    "\n",
    "\n",
    "# For each measure, add a column that only contains the losses that violated the corresponding VaR\n",
    "for measure in backtest.iloc[:,1:]:\n",
    "    \n",
    "    # Define column name for the violation colums per method\n",
    "    measure_violation = str(measure) + '_violations'\n",
    "    \n",
    "    backtest[measure_violation] = np.where(backtest['Losses'] > backtest[measure], backtest['Losses'], 'NaN')\n",
    "    violation[measure_violation] = np.where(backtest['Losses'] > backtest[measure], 1, 0)\n",
    "    backtest[measure_violation] = backtest[measure_violation].astype(float)\n",
    "    \n",
    "    # Apply appropriate alpha\n",
    "    if measure.split('_')[3] == '0.975':\n",
    "        alpha = (1-confidence_levels[0])\n",
    "    elif measure.split('_')[3] == '0.99':\n",
    "        alpha = (1-confidence_levels[1])\n",
    "    \n",
    "    # Calculate test statistic based on markdown above\n",
    "    N = len(backtest)\n",
    "    violations = backtest[measure_violation].count()\n",
    "    expected = N * (alpha)\n",
    "    \n",
    "    zscore = (violations - expected) / np.sqrt(N * alpha * (1 - alpha))\n",
    "    pvalue = norm.sf(abs(zscore)) * 2    # P-value is two sided\n",
    "    \n",
    "    var_pvalues[measure] = pvalue\n",
    "    \n",
    "    zscores[measure] = [zscore, pvalue]\n",
    "    \n",
    "    print (measure)\n",
    "    print ('Z-score: {:.3f}'.format(zscore))\n",
    "    print ('P-value: {:.3f}'.format(pvalue))\n",
    "    print ()"
   ]
  },
  {
   "cell_type": "code",
   "execution_count": null,
   "metadata": {},
   "outputs": [],
   "source": [
    "violation['Trading Days'] = 1\n",
    "violation['Expected 0.975'] = 1*(1-0.975)\n",
    "violation['Expected 0.99'] = 1*(1-0.99)"
   ]
  },
  {
   "cell_type": "code",
   "execution_count": null,
   "metadata": {},
   "outputs": [],
   "source": [
    "violation[violation.columns[violation.columns.str.contains(f'(?=.*VaR)(?=.*0.975)',regex=True)]]"
   ]
  },
  {
   "cell_type": "code",
   "execution_count": null,
   "metadata": {},
   "outputs": [],
   "source": [
    "df_violations=np.ceil(violation[violation.columns[violation.columns.str.contains(f'(?=.*VaR)(?=.*0.975)',regex=True) | violation.columns.str.contains(f'(?=.*Days)',regex=True) | violation.columns.str.contains(f'(?=.*Expected)(?=.*0.975)',regex=True)]].groupby(pd.Grouper(freq=\"y\")).sum().T,0)\n",
    "df_violations"
   ]
  },
  {
   "cell_type": "code",
   "execution_count": null,
   "metadata": {},
   "outputs": [],
   "source": [
    "print(df_violations.to_latex())"
   ]
  },
  {
   "cell_type": "code",
   "execution_count": null,
   "metadata": {},
   "outputs": [],
   "source": [
    "z=zscores\n",
    "z"
   ]
  },
  {
   "cell_type": "code",
   "execution_count": null,
   "metadata": {},
   "outputs": [],
   "source": [
    "print(z.to_latex())"
   ]
  },
  {
   "cell_type": "code",
   "execution_count": null,
   "metadata": {},
   "outputs": [],
   "source": [
    "df_violations_1=np.ceil(violation[violation.columns[violation.columns.str.contains(f'(?=.*VaR)(?=.*0.99)',regex=True) | violation.columns.str.contains(f'(?=.*Days)',regex=True) | violation.columns.str.contains(f'(?=.*Expected)(?=.*0.99)',regex=True)]].groupby(pd.Grouper(freq=\"y\")).sum().T,0)"
   ]
  },
  {
   "cell_type": "code",
   "execution_count": null,
   "metadata": {},
   "outputs": [],
   "source": [
    "print(df_violations_1.to_latex())"
   ]
  },
  {
   "cell_type": "code",
   "execution_count": null,
   "metadata": {},
   "outputs": [],
   "source": [
    "# Plot violations to observe clustering\n",
    "for measure in backtest.columns[1:20]:\n",
    "\n",
    "    measure_violation = str(measure) + '_violations'\n",
    "    \n",
    "    # Use the backtest period as index\n",
    "    x = backtest.index\n",
    "    y1 = backtest['Losses']\n",
    "    y2 = backtest[measure_violation]\n",
    "    y3 = backtest[measure]\n",
    "    \n",
    "    fig, ax = plt.subplots(figsize=(20, 7))\n",
    "\n",
    "    plt.title('Violations under {} method'.format(measure), size=16)\n",
    "\n",
    "    # Plot returns in euro\n",
    "    plt.plot(x, y1, color='lightgrey', label = '\\u20ac Losses')\n",
    "    \n",
    "    # Mark the violations\n",
    "    plt.scatter(x, y2, marker='x', color='black', label = 'Violations')\n",
    "    \n",
    "    # Plot VaR\n",
    "    plt.plot(x, y3, color='red', label = 'VaR')\n",
    "        \n",
    "    plt.legend()\n",
    "    plt.ylim(0,100000)\n",
    "    plt.show()\n",
    "   "
   ]
  },
  {
   "cell_type": "code",
   "execution_count": null,
   "metadata": {},
   "outputs": [],
   "source": [
    "(backtest['VaR_HS_300_0.975_N'] == backtest['VaR_FHS_300_0.975_N']).value_counts()"
   ]
  },
  {
   "cell_type": "code",
   "execution_count": null,
   "metadata": {},
   "outputs": [],
   "source": [
    "fig, ax = plt.subplots(figsize=(20, 10))\n",
    "plt.plot(backtest['VaR_HS_300_0.975_N'], label='HS')\n",
    "plt.plot(backtest['VaR_FHS_300_0.975_N'], label='FHS')\n",
    "plt.legend()\n",
    "plt.show()"
   ]
  },
  {
   "cell_type": "code",
   "execution_count": null,
   "metadata": {},
   "outputs": [],
   "source": [
    "\n",
    "x = backtest.index\n",
    "y1 = backtest['Losses'] / 1000000\n",
    "y2 = backtest['VaR_VC_300_0.975_N'] / 1000000\n",
    "y3 = backtest['VaR_VC_300_0.975_t5'] / 1000000\n",
    "y4 = backtest['VaR_HS_300_0.975_N'] / 1000000\n",
    "y5 = backtest['VaR_FHS_300_0.975_N'] / 1000000\n",
    "y6 = backtest['VaR_CCC_1D_0.975_N'] / 1000000\n",
    "\n",
    "fig, ax = plt.subplots(figsize=(20, 10))\n",
    "\n",
    "plt.ylabel('Losses in \\u20ac millions', size=16)\n",
    "plt.tick_params(labelsize=16)\n",
    "\n",
    "# Plot returns in euro\n",
    "plt.plot(x, y1, color='lightgrey', label = '\\u20ac Losses')\n",
    "plt.plot(x, y2, color='#3869B1', label = '$VC_{norm}$')\n",
    "# plt.plot(x, y3, color='#DA7E30', label = '$VC-t_5$')\n",
    "plt.plot(x, y4, color='#3F9852', label = '$HS$')\n",
    "plt.plot(x, y5, color='#CC2428', label = '$FHS$')\n",
    "# plt.plot(x, y6, color='#535055', label = '$CCC$')\n",
    "\n",
    "plt.legend(fontsize=13)\n",
    "plt.ylim(0,0.1)\n",
    "plt.show()"
   ]
  },
  {
   "cell_type": "markdown",
   "metadata": {},
   "source": [
    "## Historical simulation for different horizons"
   ]
  },
  {
   "cell_type": "code",
   "execution_count": null,
   "metadata": {},
   "outputs": [],
   "source": [
    "pf_losses = pd.DataFrame(np.sum(df_losses * absolute_weights, axis=1), columns=['1D'])\n",
    "pf_losses['Day'] = (np.arange(1, len(pf_losses)+1)).astype('int32')"
   ]
  },
  {
   "cell_type": "code",
   "execution_count": null,
   "metadata": {
    "tags": []
   },
   "outputs": [],
   "source": [
    "for idx, row in pf_losses.iterrows():\n",
    "    if row['Day'] % 5 == 0:\n",
    "        pf_losses.loc[idx, '5D'] = np.sum(pf_losses.loc[pf_losses.index[int(row['Day']-5)]:pf_losses.index[int(row['Day']-1)], '1D'])\n",
    "\n",
    "    if row['Day'] % 10 == 0:\n",
    "        pf_losses.loc[idx, '10D'] = np.sum(pf_losses.loc[pf_losses.index[int(row['Day']-10)]:pf_losses.index[int(row['Day']-1)], '1D'])"
   ]
  },
  {
   "cell_type": "code",
   "execution_count": null,
   "metadata": {},
   "outputs": [],
   "source": [
    "print(np.percentile(pf_losses[:'2021-03-16']['1D'], confidence_levels[0] * 100) * np.sqrt(5))\n",
    "print(np.percentile(pf_losses[:'2021-03-16']['5D'].dropna(), confidence_levels[0] * 100))\n",
    "\n",
    "print(np.percentile(pf_losses[:'2021-03-16']['1D'], confidence_levels[0] * 100) * np.sqrt(10))\n",
    "print(np.percentile(pf_losses[:'2021-03-16']['10D'].dropna(), confidence_levels[0] * 100))"
   ]
  }
 ],
 "metadata": {
  "kernelspec": {
   "display_name": "Python 3",
   "language": "python",
   "name": "python3"
  },
  "language_info": {
   "codemirror_mode": {
    "name": "ipython",
    "version": 3
   },
   "file_extension": ".py",
   "mimetype": "text/x-python",
   "name": "python",
   "nbconvert_exporter": "python",
   "pygments_lexer": "ipython3",
   "version": "3.8.3"
  }
 },
 "nbformat": 4,
 "nbformat_minor": 4
}
