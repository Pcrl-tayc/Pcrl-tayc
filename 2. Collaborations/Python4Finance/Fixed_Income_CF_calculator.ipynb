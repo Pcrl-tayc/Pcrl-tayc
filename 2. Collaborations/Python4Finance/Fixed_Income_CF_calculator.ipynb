{
 "cells": [
  {
   "cell_type": "code",
   "execution_count": 1,
   "metadata": {},
   "outputs": [
    {
     "name": "stdout",
     "output_type": "stream",
     "text": [
      "The present value of the investment is 150721.56034\n"
     ]
    }
   ],
   "source": [
    "Payment=20000\n",
    "discountrate=(0.08)\n",
    "timing=12\n",
    "def annuityPv(PMT,r,n):\n",
    "    pv=0\n",
    "    pv += PMT*((1-(1+r)**(-n))/r)\n",
    "    return (pv)\n",
    "\n",
    "annuityPv(Payment,discountrate,timing)\n",
    "print(\"The present value of the investment is {:8.5f}\".format(annuityPv(Payment,discountrate,timing)))\n",
    "    "
   ]
  },
  {
   "cell_type": "code",
   "execution_count": 2,
   "metadata": {},
   "outputs": [
    {
     "name": "stdout",
     "output_type": "stream",
     "text": [
      "The present value of the bond is  820.90\n"
     ]
    }
   ],
   "source": [
    "#Valuing Bonds\n",
    "#Characteristics: Annuities and at the end you also receive the principal\n",
    "discountrate=0.01\n",
    "timing=20\n",
    "r_coupon=0.15\n",
    "Final_value=1000\n",
    "coupon=(Final_value*r_coupon)\n",
    "\n",
    "\n",
    "def bondPv(C,r,n,Fv):\n",
    "    pv=0\n",
    "    pv += (C*((1-(1+r)**(-n))/n)+(Fv/(1+r)**n))\n",
    "    return(pv)\n",
    "           \n",
    "bondPv(coupon,discountrate,timing,Final_value)\n",
    "print (\"The present value of the bond is{:8.2f}\".format(bondPv(coupon,discountrate,timing,Final_value)))"
   ]
  },
  {
   "cell_type": "code",
   "execution_count": 3,
   "metadata": {},
   "outputs": [],
   "source": [
    "n=10\n",
    "Fv=1000\n",
    "r_coupon=0.10\n",
    "C=(Fv*r_coupon)\n",
    "r=discountRates=[0.03,0.04,0.05,0.06,0.07,0.08,0.09,0.10,0.11,0.12,0.13,0.14,0.15,0.16]\n",
    "\n",
    "output=[]\n",
    "\n",
    "for r in discountRates:\n",
    "    output.append((bondPv(C,r,n,Fv)))\n",
    "    \n",
    "output"
   ]
  },
  {
   "cell_type": "code",
   "execution_count": 4,
   "metadata": {},
   "outputs": [
    {
     "data": {
      "text/plain": [
       "[746.6529757477578,\n",
       " 678.8085271375406,\n",
       " 617.7741210053515,\n",
       " 562.8108291459666,\n",
       " 513.2657992133704,\n",
       " 468.5615532038373,\n",
       " 428.18669882673197,\n",
       " 391.6878565352361,\n",
       " 358.66263398672226,\n",
       " 328.75350422478897,\n",
       " 301.6424646448642,\n",
       " 277.04637142370945,\n",
       " 254.71285906064722,\n",
       " 234.41676741233655]"
      ]
     },
     "execution_count": 4,
     "metadata": {},
     "output_type": "execute_result"
    }
   ],
   "source": []
  },
  {
   "cell_type": "code",
   "execution_count": 5,
   "metadata": {},
   "outputs": [],
   "source": [
    "import matplotlib as ml\n",
    "import matplotlib.pyplot as plt"
   ]
  },
  {
   "cell_type": "code",
   "execution_count": 6,
   "metadata": {},
   "outputs": [
    {
     "data": {
      "text/plain": [
       "<matplotlib.legend.Legend at 0x1c1bd1d27c0>"
      ]
     },
     "execution_count": 6,
     "metadata": {},
     "output_type": "execute_result"
    },
    {
     "data": {
      "image/png": "[encoded data removed]",
      "text/plain": [
       "<Figure size 432x288 with 1 Axes>"
      ]
     },
     "metadata": {
      "needs_background": "light"
     },
     "output_type": "display_data"
    }
   ],
   "source": [
    "fig, ax=plt.subplots()\n",
    "ax.plot(output,discountRates,color=\"blue\",label=\"Pv\")\n",
    "ax.set_xlabel(\"Present Value\")\n",
    "ax.set_ylabel(\"Discount Rate\")\n",
    "ax.legend()"
   ]
  },
  {
   "cell_type": "code",
   "execution_count": 7,
   "metadata": {},
   "outputs": [],
   "source": [
    "fig.savefig(\"Bond Value investmet.pdf\")"
   ]
  },
  {
   "cell_type": "code",
   "execution_count": 8,
   "metadata": {},
   "outputs": [
    {
     "data": {
      "text/plain": [
       "7884.931755816562"
      ]
     },
     "execution_count": 8,
     "metadata": {},
     "output_type": "execute_result"
    }
   ],
   "source": [
    "x=10000\n",
    "n=30\n",
    "r=0.02\n",
    "M=(1+r)**12\n",
    "\n",
    "def annualRequiredSavings():\n",
    "    pv=0\n",
    "    pv +=(x/M)\n",
    "    return(pv)\n",
    "\n",
    "annualRequiredSavings()"
   ]
  },
  {
   "cell_type": "code",
   "execution_count": 10,
   "metadata": {},
   "outputs": [
    {
     "name": "stdin",
     "output_type": "stream",
     "text": [
      "X 10\n"
     ]
    },
    {
     "ename": "NameError",
     "evalue": "name 'AnnPv' is not defined",
     "output_type": "error",
     "traceback": [
      "\u001b[1;31m---------------------------------------------------------------------------\u001b[0m",
      "\u001b[1;31mNameError\u001b[0m                                 Traceback (most recent call last)",
      "\u001b[1;32m<ipython-input-10-5021f2598395>\u001b[0m in \u001b[0;36m<module>\u001b[1;34m\u001b[0m\n\u001b[0;32m      9\u001b[0m     \u001b[1;32mreturn\u001b[0m\u001b[1;33m(\u001b[0m\u001b[0mpv\u001b[0m\u001b[1;33m)\u001b[0m\u001b[1;33m\u001b[0m\u001b[1;33m\u001b[0m\u001b[0m\n\u001b[0;32m     10\u001b[0m \u001b[1;33m\u001b[0m\u001b[0m\n\u001b[1;32m---> 11\u001b[1;33m \u001b[0mAnnPv\u001b[0m\u001b[1;33m(\u001b[0m\u001b[0mPayment\u001b[0m\u001b[1;33m,\u001b[0m \u001b[0mDiscountRate\u001b[0m\u001b[1;33m,\u001b[0m\u001b[0mTiming\u001b[0m\u001b[1;33m)\u001b[0m\u001b[1;33m\u001b[0m\u001b[1;33m\u001b[0m\u001b[0m\n\u001b[0m",
      "\u001b[1;31mNameError\u001b[0m: name 'AnnPv' is not defined"
     ]
    }
   ],
   "source": [
    "p=10000\n",
    "n=12\n",
    "r=0.08\n",
    "t=input(\"X\")\n",
    "\n",
    "def AnnPV(PMT,n,r):\n",
    "    pv=0\n",
    "    pv+=p*(1+(1/r)**(n*t))\n",
    "    return(pv)\n",
    "\n",
    "AnnPv(Payment, DiscountRate,Timing)"
   ]
  },
  {
   "cell_type": "code",
   "execution_count": null,
   "metadata": {},
   "outputs": [],
   "source": []
  }
 ],
 "metadata": {
  "kernelspec": {
   "display_name": "Python 3",
   "language": "python",
   "name": "python3"
  },
  "language_info": {
   "codemirror_mode": {
    "name": "ipython",
    "version": 3
   },
   "file_extension": ".py",
   "mimetype": "text/x-python",
   "name": "python",
   "nbconvert_exporter": "python",
   "pygments_lexer": "ipython3",
   "version": "3.8.3"
  }
 },
 "nbformat": 4,
 "nbformat_minor": 4
}
