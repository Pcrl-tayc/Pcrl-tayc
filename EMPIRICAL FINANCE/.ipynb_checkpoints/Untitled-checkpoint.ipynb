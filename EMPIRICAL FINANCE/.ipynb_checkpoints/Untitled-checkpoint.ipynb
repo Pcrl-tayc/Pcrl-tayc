{
 "cells": [
  {
   "cell_type": "code",
   "execution_count": 31,
   "metadata": {},
   "outputs": [],
   "source": [
    "import numpy as np\n",
    "import pandas as pd \n",
    "import matplotlib as mpl\n",
    "import matplotlib.pyplot as plt\n",
    "from statsmodels.formula.api import ols\n",
    "import statsmodels.api as sm\n",
    "from statsmodels.formula.api import logit\n",
    "import scipy\n",
    "import scipy.stats\n",
    "import seaborn\n",
    "import sqlite3 as sql\n",
    "plt.style.use(\"seaborn\")\n",
    "from numba import jit\n",
    "import numpy.random as npr\n",
    "from scipy.stats import norm\n",
    "import time"
   ]
  },
  {
   "cell_type": "code",
   "execution_count": 32,
   "metadata": {},
   "outputs": [
    {
     "data": {
      "text/html": [
       "<div>\n",
       "<style scoped>\n",
       "    .dataframe tbody tr th:only-of-type {\n",
       "        vertical-align: middle;\n",
       "    }\n",
       "\n",
       "    .dataframe tbody tr th {\n",
       "        vertical-align: top;\n",
       "    }\n",
       "\n",
       "    .dataframe thead th {\n",
       "        text-align: right;\n",
       "    }\n",
       "</style>\n",
       "<table border=\"1\" class=\"dataframe\">\n",
       "  <thead>\n",
       "    <tr style=\"text-align: right;\">\n",
       "      <th></th>\n",
       "      <th>Date</th>\n",
       "      <th>Spot</th>\n",
       "      <th>Futures</th>\n",
       "    </tr>\n",
       "  </thead>\n",
       "  <tbody>\n",
       "    <tr>\n",
       "      <th>0</th>\n",
       "      <td>2002-02-01</td>\n",
       "      <td>1106.73</td>\n",
       "      <td>1106.9</td>\n",
       "    </tr>\n",
       "    <tr>\n",
       "      <th>1</th>\n",
       "      <td>2002-03-01</td>\n",
       "      <td>1147.39</td>\n",
       "      <td>1149.2</td>\n",
       "    </tr>\n",
       "    <tr>\n",
       "      <th>2</th>\n",
       "      <td>2002-04-01</td>\n",
       "      <td>1076.92</td>\n",
       "      <td>1077.2</td>\n",
       "    </tr>\n",
       "    <tr>\n",
       "      <th>3</th>\n",
       "      <td>2002-05-01</td>\n",
       "      <td>1067.14</td>\n",
       "      <td>1067.5</td>\n",
       "    </tr>\n",
       "    <tr>\n",
       "      <th>4</th>\n",
       "      <td>2002-06-01</td>\n",
       "      <td>989.82</td>\n",
       "      <td>990.1</td>\n",
       "    </tr>\n",
       "    <tr>\n",
       "      <th>...</th>\n",
       "      <td>...</td>\n",
       "      <td>...</td>\n",
       "      <td>...</td>\n",
       "    </tr>\n",
       "    <tr>\n",
       "      <th>130</th>\n",
       "      <td>2012-12-01</td>\n",
       "      <td>1426.19</td>\n",
       "      <td>1420.1</td>\n",
       "    </tr>\n",
       "    <tr>\n",
       "      <th>131</th>\n",
       "      <td>2013-01-01</td>\n",
       "      <td>1498.11</td>\n",
       "      <td>1493.3</td>\n",
       "    </tr>\n",
       "    <tr>\n",
       "      <th>132</th>\n",
       "      <td>2013-02-01</td>\n",
       "      <td>1514.68</td>\n",
       "      <td>1513.3</td>\n",
       "    </tr>\n",
       "    <tr>\n",
       "      <th>133</th>\n",
       "      <td>2013-03-01</td>\n",
       "      <td>1569.18</td>\n",
       "      <td>1562.7</td>\n",
       "    </tr>\n",
       "    <tr>\n",
       "      <th>134</th>\n",
       "      <td>2013-04-01</td>\n",
       "      <td>1597.55</td>\n",
       "      <td>1592.2</td>\n",
       "    </tr>\n",
       "  </tbody>\n",
       "</table>\n",
       "<p>135 rows × 3 columns</p>\n",
       "</div>"
      ],
      "text/plain": [
       "          Date     Spot  Futures\n",
       "0   2002-02-01  1106.73   1106.9\n",
       "1   2002-03-01  1147.39   1149.2\n",
       "2   2002-04-01  1076.92   1077.2\n",
       "3   2002-05-01  1067.14   1067.5\n",
       "4   2002-06-01   989.82    990.1\n",
       "..         ...      ...      ...\n",
       "130 2012-12-01  1426.19   1420.1\n",
       "131 2013-01-01  1498.11   1493.3\n",
       "132 2013-02-01  1514.68   1513.3\n",
       "133 2013-03-01  1569.18   1562.7\n",
       "134 2013-04-01  1597.55   1592.2\n",
       "\n",
       "[135 rows x 3 columns]"
      ]
     },
     "execution_count": 32,
     "metadata": {},
     "output_type": "execute_result"
    }
   ],
   "source": [
    "Spot_Futures_DFrame=pd.read_excel(\"sphedge.xlsx\")\n",
    "Spot_Futures_DFrame"
   ]
  },
  {
   "cell_type": "code",
   "execution_count": 33,
   "metadata": {},
   "outputs": [
    {
     "name": "stdout",
     "output_type": "stream",
     "text": [
      "<class 'pandas.core.frame.DataFrame'>\n",
      "RangeIndex: 135 entries, 0 to 134\n",
      "Data columns (total 3 columns):\n",
      " #   Column   Non-Null Count  Dtype         \n",
      "---  ------   --------------  -----         \n",
      " 0   Date     135 non-null    datetime64[ns]\n",
      " 1   Spot     135 non-null    float64       \n",
      " 2   Futures  135 non-null    float64       \n",
      "dtypes: datetime64[ns](1), float64(2)\n",
      "memory usage: 3.3 KB\n"
     ]
    }
   ],
   "source": [
    "Spot_Futures_DFrame.info()"
   ]
  },
  {
   "cell_type": "code",
   "execution_count": 34,
   "metadata": {},
   "outputs": [
    {
     "name": "stdout",
     "output_type": "stream",
     "text": [
      "                            OLS Regression Results                            \n",
      "==============================================================================\n",
      "Dep. Variable:                Futures   R-squared:                       1.000\n",
      "Model:                            OLS   Adj. R-squared:                  1.000\n",
      "Method:                 Least Squares   F-statistic:                 2.818e+05\n",
      "Date:                Sat, 31 Oct 2020   Prob (F-statistic):          4.38e-223\n",
      "Time:                        11:15:26   Log-Likelihood:                -386.55\n",
      "No. Observations:                 135   AIC:                             777.1\n",
      "Df Residuals:                     133   BIC:                             782.9\n",
      "Df Model:                           1                                         \n",
      "Covariance Type:            nonrobust                                         \n",
      "==============================================================================\n",
      "                 coef    std err          t      P>|t|      [0.025      0.975]\n",
      "------------------------------------------------------------------------------\n",
      "Intercept     -4.9507      2.295     -2.157      0.033      -9.491      -0.410\n",
      "Spot           1.0039      0.002    530.846      0.000       1.000       1.008\n",
      "==============================================================================\n",
      "Omnibus:                        1.569   Durbin-Watson:                   0.769\n",
      "Prob(Omnibus):                  0.456   Jarque-Bera (JB):                1.578\n",
      "Skew:                           0.254   Prob(JB):                        0.454\n",
      "Kurtosis:                       2.848   Cond. No.                     7.58e+03\n",
      "==============================================================================\n",
      "\n",
      "Warnings:\n",
      "[1] Standard Errors assume that the covariance matrix of the errors is correctly specified.\n",
      "[2] The condition number is large, 7.58e+03. This might indicate that there are\n",
      "strong multicollinearity or other numerical problems.\n"
     ]
    }
   ],
   "source": [
    "model=ols(\"Futures~Spot\",data=Spot_Futures_DFrame)\n",
    "estimates1=model.fit()\n",
    "estimates1.summary\n",
    "print(estimates1.summary())"
   ]
  },
  {
   "cell_type": "code",
   "execution_count": 35,
   "metadata": {},
   "outputs": [
    {
     "data": {
      "text/plain": [
       "(array([ 3.,  9., 12., 12., 21., 18., 25., 18., 10.,  7.]),\n",
       " array([ 734.2,  820. ,  905.8,  991.6, 1077.4, 1163.2, 1249. , 1334.8,\n",
       "        1420.6, 1506.4, 1592.2]),\n",
       " <a list of 10 Patch objects>)"
      ]
     },
     "execution_count": 35,
     "metadata": {},
     "output_type": "execute_result"
    },
    {
     "data": {
      "image/png": "[encoded data removed]",
      "text/plain": [
       "<Figure size 576x396 with 1 Axes>"
      ]
     },
     "metadata": {},
     "output_type": "display_data"
    }
   ],
   "source": [
    "plt.hist(Spot_Futures_DFrame.Futures,color=\"Blue\")\n"
   ]
  },
  {
   "cell_type": "code",
   "execution_count": 36,
   "metadata": {},
   "outputs": [
    {
     "data": {
      "text/html": [
       "<div>\n",
       "<style scoped>\n",
       "    .dataframe tbody tr th:only-of-type {\n",
       "        vertical-align: middle;\n",
       "    }\n",
       "\n",
       "    .dataframe tbody tr th {\n",
       "        vertical-align: top;\n",
       "    }\n",
       "\n",
       "    .dataframe thead th {\n",
       "        text-align: right;\n",
       "    }\n",
       "</style>\n",
       "<table border=\"1\" class=\"dataframe\">\n",
       "  <thead>\n",
       "    <tr style=\"text-align: right;\">\n",
       "      <th></th>\n",
       "      <th>Date</th>\n",
       "      <th>Microsoft</th>\n",
       "      <th>Apple</th>\n",
       "    </tr>\n",
       "  </thead>\n",
       "  <tbody>\n",
       "    <tr>\n",
       "      <th>0</th>\n",
       "      <td>2005-01-28</td>\n",
       "      <td>26.18</td>\n",
       "      <td>5.2843</td>\n",
       "    </tr>\n",
       "    <tr>\n",
       "      <th>1</th>\n",
       "      <td>2005-01-31</td>\n",
       "      <td>26.28</td>\n",
       "      <td>5.4929</td>\n",
       "    </tr>\n",
       "    <tr>\n",
       "      <th>2</th>\n",
       "      <td>2005-02-01</td>\n",
       "      <td>26.39</td>\n",
       "      <td>5.5379</td>\n",
       "    </tr>\n",
       "    <tr>\n",
       "      <th>3</th>\n",
       "      <td>2005-02-02</td>\n",
       "      <td>26.46</td>\n",
       "      <td>5.6879</td>\n",
       "    </tr>\n",
       "    <tr>\n",
       "      <th>4</th>\n",
       "      <td>2005-02-03</td>\n",
       "      <td>26.18</td>\n",
       "      <td>5.5579</td>\n",
       "    </tr>\n",
       "  </tbody>\n",
       "</table>\n",
       "</div>"
      ],
      "text/plain": [
       "        Date  Microsoft   Apple\n",
       "0 2005-01-28      26.18  5.2843\n",
       "1 2005-01-31      26.28  5.4929\n",
       "2 2005-02-01      26.39  5.5379\n",
       "3 2005-02-02      26.46  5.6879\n",
       "4 2005-02-03      26.18  5.5579"
      ]
     },
     "execution_count": 36,
     "metadata": {},
     "output_type": "execute_result"
    }
   ],
   "source": [
    "MSFT_APPLE_DFrame=pd.read_excel(\"apple_microsoft.xlsx\")\n",
    "MSFT_APPLE_DFrame.head()"
   ]
  },
  {
   "cell_type": "code",
   "execution_count": 37,
   "metadata": {},
   "outputs": [
    {
     "data": {
      "text/plain": [
       "Date         datetime64[ns]\n",
       "Microsoft           float64\n",
       "Apple               float64\n",
       "dtype: object"
      ]
     },
     "execution_count": 37,
     "metadata": {},
     "output_type": "execute_result"
    }
   ],
   "source": [
    "MSFT_APPLE_DFrame.dtypes"
   ]
  },
  {
   "cell_type": "code",
   "execution_count": 38,
   "metadata": {},
   "outputs": [
    {
     "name": "stdout",
     "output_type": "stream",
     "text": [
      "<class 'pandas.core.frame.DataFrame'>\n",
      "RangeIndex: 2871 entries, 0 to 2870\n",
      "Data columns (total 3 columns):\n",
      " #   Column     Non-Null Count  Dtype         \n",
      "---  ------     --------------  -----         \n",
      " 0   Date       2871 non-null   datetime64[ns]\n",
      " 1   Microsoft  2871 non-null   float64       \n",
      " 2   Apple      2871 non-null   float64       \n",
      "dtypes: datetime64[ns](1), float64(2)\n",
      "memory usage: 67.4 KB\n"
     ]
    }
   ],
   "source": [
    "MSFT_APPLE_DFrame.info()"
   ]
  },
  {
   "cell_type": "code",
   "execution_count": 39,
   "metadata": {},
   "outputs": [
    {
     "data": {
      "text/html": [
       "<div>\n",
       "<style scoped>\n",
       "    .dataframe tbody tr th:only-of-type {\n",
       "        vertical-align: middle;\n",
       "    }\n",
       "\n",
       "    .dataframe tbody tr th {\n",
       "        vertical-align: top;\n",
       "    }\n",
       "\n",
       "    .dataframe thead th {\n",
       "        text-align: right;\n",
       "    }\n",
       "</style>\n",
       "<table border=\"1\" class=\"dataframe\">\n",
       "  <thead>\n",
       "    <tr style=\"text-align: right;\">\n",
       "      <th></th>\n",
       "      <th>Microsoft</th>\n",
       "      <th>Apple</th>\n",
       "      <th>Year</th>\n",
       "      <th>Month</th>\n",
       "      <th>Day</th>\n",
       "    </tr>\n",
       "  </thead>\n",
       "  <tbody>\n",
       "    <tr>\n",
       "      <th>0</th>\n",
       "      <td>26.18</td>\n",
       "      <td>5.2843</td>\n",
       "      <td>2005</td>\n",
       "      <td>1</td>\n",
       "      <td>28</td>\n",
       "    </tr>\n",
       "    <tr>\n",
       "      <th>1</th>\n",
       "      <td>26.28</td>\n",
       "      <td>5.4929</td>\n",
       "      <td>2005</td>\n",
       "      <td>1</td>\n",
       "      <td>31</td>\n",
       "    </tr>\n",
       "    <tr>\n",
       "      <th>2</th>\n",
       "      <td>26.39</td>\n",
       "      <td>5.5379</td>\n",
       "      <td>2005</td>\n",
       "      <td>2</td>\n",
       "      <td>1</td>\n",
       "    </tr>\n",
       "    <tr>\n",
       "      <th>3</th>\n",
       "      <td>26.46</td>\n",
       "      <td>5.6879</td>\n",
       "      <td>2005</td>\n",
       "      <td>2</td>\n",
       "      <td>2</td>\n",
       "    </tr>\n",
       "    <tr>\n",
       "      <th>4</th>\n",
       "      <td>26.18</td>\n",
       "      <td>5.5579</td>\n",
       "      <td>2005</td>\n",
       "      <td>2</td>\n",
       "      <td>3</td>\n",
       "    </tr>\n",
       "  </tbody>\n",
       "</table>\n",
       "</div>"
      ],
      "text/plain": [
       "   Microsoft   Apple  Year  Month  Day\n",
       "0      26.18  5.2843  2005      1   28\n",
       "1      26.28  5.4929  2005      1   31\n",
       "2      26.39  5.5379  2005      2    1\n",
       "3      26.46  5.6879  2005      2    2\n",
       "4      26.18  5.5579  2005      2    3"
      ]
     },
     "execution_count": 39,
     "metadata": {},
     "output_type": "execute_result"
    }
   ],
   "source": [
    "MSFT_APPLE_DFrame[\"Year\"]=MSFT_APPLE_DFrame[\"Date\"].dt.year\n",
    "MSFT_APPLE_DFrame[\"Month\"]=MSFT_APPLE_DFrame[\"Date\"].dt.month\n",
    "MSFT_APPLE_DFrame[\"Day\"]=MSFT_APPLE_DFrame[\"Date\"].dt.day\n",
    "MSFT_APPLE_DFrame.drop([\"Date\"],axis=1,inplace=True)\n",
    "MSFT_APPLE_DFrame.head()"
   ]
  },
  {
   "cell_type": "code",
   "execution_count": 40,
   "metadata": {},
   "outputs": [
    {
     "data": {
      "text/html": [
       "<div>\n",
       "<style scoped>\n",
       "    .dataframe tbody tr th:only-of-type {\n",
       "        vertical-align: middle;\n",
       "    }\n",
       "\n",
       "    .dataframe tbody tr th {\n",
       "        vertical-align: top;\n",
       "    }\n",
       "\n",
       "    .dataframe thead th {\n",
       "        text-align: right;\n",
       "    }\n",
       "</style>\n",
       "<table border=\"1\" class=\"dataframe\">\n",
       "  <thead>\n",
       "    <tr style=\"text-align: right;\">\n",
       "      <th></th>\n",
       "      <th>Microsoft</th>\n",
       "      <th>Apple</th>\n",
       "      <th>Month</th>\n",
       "      <th>Day</th>\n",
       "    </tr>\n",
       "    <tr>\n",
       "      <th>Year</th>\n",
       "      <th></th>\n",
       "      <th></th>\n",
       "      <th></th>\n",
       "      <th></th>\n",
       "    </tr>\n",
       "  </thead>\n",
       "  <tbody>\n",
       "    <tr>\n",
       "      <th>2005</th>\n",
       "      <td>25.840497</td>\n",
       "      <td>6.813967</td>\n",
       "      <td>6.979253</td>\n",
       "      <td>15.796680</td>\n",
       "    </tr>\n",
       "    <tr>\n",
       "      <th>2006</th>\n",
       "      <td>26.303110</td>\n",
       "      <td>10.126430</td>\n",
       "      <td>6.507692</td>\n",
       "      <td>15.780769</td>\n",
       "    </tr>\n",
       "    <tr>\n",
       "      <th>2007</th>\n",
       "      <td>30.461350</td>\n",
       "      <td>18.274300</td>\n",
       "      <td>6.498084</td>\n",
       "      <td>15.773946</td>\n",
       "    </tr>\n",
       "    <tr>\n",
       "      <th>2008</th>\n",
       "      <td>26.675609</td>\n",
       "      <td>20.304730</td>\n",
       "      <td>6.507634</td>\n",
       "      <td>15.740458</td>\n",
       "    </tr>\n",
       "    <tr>\n",
       "      <th>2009</th>\n",
       "      <td>22.975448</td>\n",
       "      <td>20.924805</td>\n",
       "      <td>6.540230</td>\n",
       "      <td>15.685824</td>\n",
       "    </tr>\n",
       "  </tbody>\n",
       "</table>\n",
       "</div>"
      ],
      "text/plain": [
       "      Microsoft      Apple     Month        Day\n",
       "Year                                           \n",
       "2005  25.840497   6.813967  6.979253  15.796680\n",
       "2006  26.303110  10.126430  6.507692  15.780769\n",
       "2007  30.461350  18.274300  6.498084  15.773946\n",
       "2008  26.675609  20.304730  6.507634  15.740458\n",
       "2009  22.975448  20.924805  6.540230  15.685824"
      ]
     },
     "execution_count": 40,
     "metadata": {},
     "output_type": "execute_result"
    }
   ],
   "source": [
    "MSFT_APPLE_DFrame_Year=MSFT_APPLE_DFrame.groupby(by=\"Year\").mean()\n",
    "MSFT_APPLE_DFrame_Year.head()"
   ]
  },
  {
   "cell_type": "code",
   "execution_count": 41,
   "metadata": {},
   "outputs": [
    {
     "name": "stdout",
     "output_type": "stream",
     "text": [
      "                            OLS Regression Results                            \n",
      "==============================================================================\n",
      "Dep. Variable:                  Apple   R-squared:                       0.640\n",
      "Model:                            OLS   Adj. R-squared:                  0.640\n",
      "Method:                 Least Squares   F-statistic:                     5106.\n",
      "Date:                Sat, 31 Oct 2020   Prob (F-statistic):               0.00\n",
      "Time:                        11:15:27   Log-Likelihood:                -12959.\n",
      "No. Observations:                2871   AIC:                         2.592e+04\n",
      "Df Residuals:                    2869   BIC:                         2.593e+04\n",
      "Df Model:                           1                                         \n",
      "Covariance Type:            nonrobust                                         \n",
      "==============================================================================\n",
      "                 coef    std err          t      P>|t|      [0.025      0.975]\n",
      "------------------------------------------------------------------------------\n",
      "Intercept    -66.1802      1.659    -39.902      0.000     -69.432     -62.928\n",
      "Microsoft      3.7258      0.052     71.454      0.000       3.624       3.828\n",
      "==============================================================================\n",
      "Omnibus:                      353.014   Durbin-Watson:                   0.006\n",
      "Prob(Omnibus):                  0.000   Jarque-Bera (JB):              116.378\n",
      "Skew:                           0.237   Prob(JB):                     5.35e-26\n",
      "Kurtosis:                       2.135   Cond. No.                         128.\n",
      "==============================================================================\n",
      "\n",
      "Warnings:\n",
      "[1] Standard Errors assume that the covariance matrix of the errors is correctly specified.\n"
     ]
    }
   ],
   "source": [
    "model1=ols(\"Apple~Microsoft\",data=MSFT_APPLE_DFrame)\n",
    "estimates2=model1.fit()\n",
    "print(estimates2.summary())"
   ]
  },
  {
   "cell_type": "code",
   "execution_count": 42,
   "metadata": {},
   "outputs": [
    {
     "data": {
      "image/png": "[encoded data removed]",
      "text/plain": [
       "<Figure size 576x396 with 1 Axes>"
      ]
     },
     "metadata": {},
     "output_type": "display_data"
    }
   ],
   "source": [
    "fig, ax= plt.subplots()\n",
    "ax.scatter(MSFT_APPLE_DFrame.Microsoft,MSFT_APPLE_DFrame.Apple,color=\"Pink\")\n",
    "ax.set_xlabel(\"Apple\")\n",
    "ax.set_ylabel(\"Microsoft\")\n",
    "#Modifying the size and orientation of the axis \n",
    "plt.rcParams[\"figure.figsize\"]=(6,8)\n",
    "#plt.xticks(rotation=\"60\")"
   ]
  },
  {
   "cell_type": "code",
   "execution_count": 43,
   "metadata": {},
   "outputs": [
    {
     "data": {
      "image/png": "[encoded data removed]",
      "text/plain": [
       "<Figure size 432x576 with 1 Axes>"
      ]
     },
     "metadata": {},
     "output_type": "display_data"
    }
   ],
   "source": [
    "sm.graphics.abline_plot(model_results=estimates2,color=\"Pink\")\n",
    "plt.scatter(x=MSFT_APPLE_DFrame.Microsoft,\n",
    "            y=MSFT_APPLE_DFrame.Apple)\n",
    "plt.legend(['Fitted model', 'Data'])\n",
    "plt.rcParams[\"figure.figsize\"]=(6,8)\n",
    "plt.show()"
   ]
  },
  {
   "cell_type": "code",
   "execution_count": 44,
   "metadata": {},
   "outputs": [
    {
     "data": {
      "image/png": "[encoded data removed]",
      "text/plain": [
       "<Figure size 432x576 with 1 Axes>"
      ]
     },
     "metadata": {},
     "output_type": "display_data"
    }
   ],
   "source": [
    "plt.hist(MSFT_APPLE_DFrame.Microsoft,color=\"Pink\")\n",
    "plt.show()"
   ]
  },
  {
   "cell_type": "code",
   "execution_count": 45,
   "metadata": {},
   "outputs": [
    {
     "data": {
      "image/png": "[encoded data removed]",
      "text/plain": [
       "<Figure size 432x576 with 1 Axes>"
      ]
     },
     "metadata": {},
     "output_type": "display_data"
    }
   ],
   "source": [
    "plt.hist(MSFT_APPLE_DFrame.Apple,color=\"Green\")\n",
    "plt.show()"
   ]
  },
  {
   "cell_type": "code",
   "execution_count": 49,
   "metadata": {},
   "outputs": [
    {
     "ename": "ValueError",
     "evalue": "endog must be in the unit interval.",
     "output_type": "error",
     "traceback": [
      "\u001b[1;31m---------------------------------------------------------------------------\u001b[0m",
      "\u001b[1;31mValueError\u001b[0m                                Traceback (most recent call last)",
      "\u001b[1;32m<ipython-input-49-a3e694261492>\u001b[0m in \u001b[0;36m<module>\u001b[1;34m\u001b[0m\n\u001b[1;32m----> 1\u001b[1;33m \u001b[0mLogit_Model\u001b[0m\u001b[1;33m=\u001b[0m\u001b[0mlogit\u001b[0m\u001b[1;33m(\u001b[0m\u001b[1;34m\"Apple~Microsoft\"\u001b[0m\u001b[1;33m,\u001b[0m\u001b[0mdata\u001b[0m\u001b[1;33m=\u001b[0m\u001b[0mMSFT_APPLE_DFrame\u001b[0m\u001b[1;33m)\u001b[0m\u001b[1;33m\u001b[0m\u001b[1;33m\u001b[0m\u001b[0m\n\u001b[0m\u001b[0;32m      2\u001b[0m \u001b[0mLogit_Estimates\u001b[0m\u001b[1;33m=\u001b[0m\u001b[0mLogit_Model\u001b[0m\u001b[1;33m.\u001b[0m\u001b[0mfit\u001b[0m\u001b[1;33m(\u001b[0m\u001b[1;33m)\u001b[0m\u001b[1;33m\u001b[0m\u001b[1;33m\u001b[0m\u001b[0m\n\u001b[0;32m      3\u001b[0m \u001b[0mprint\u001b[0m\u001b[1;33m(\u001b[0m\u001b[0mLogit_Estimates\u001b[0m\u001b[1;33m.\u001b[0m\u001b[0msummary\u001b[0m\u001b[1;33m(\u001b[0m\u001b[1;33m)\u001b[0m\u001b[1;33m)\u001b[0m\u001b[1;33m\u001b[0m\u001b[1;33m\u001b[0m\u001b[0m\n",
      "\u001b[1;32m~\\anaconda3\\lib\\site-packages\\statsmodels\\base\\model.py\u001b[0m in \u001b[0;36mfrom_formula\u001b[1;34m(cls, formula, data, subset, drop_cols, *args, **kwargs)\u001b[0m\n\u001b[0;32m    192\u001b[0m                        \u001b[1;34m'formula'\u001b[0m\u001b[1;33m:\u001b[0m \u001b[0mformula\u001b[0m\u001b[1;33m,\u001b[0m  \u001b[1;31m# attach formula for unpckling\u001b[0m\u001b[1;33m\u001b[0m\u001b[1;33m\u001b[0m\u001b[0m\n\u001b[0;32m    193\u001b[0m                        'design_info': design_info})\n\u001b[1;32m--> 194\u001b[1;33m         \u001b[0mmod\u001b[0m \u001b[1;33m=\u001b[0m \u001b[0mcls\u001b[0m\u001b[1;33m(\u001b[0m\u001b[0mendog\u001b[0m\u001b[1;33m,\u001b[0m \u001b[0mexog\u001b[0m\u001b[1;33m,\u001b[0m \u001b[1;33m*\u001b[0m\u001b[0margs\u001b[0m\u001b[1;33m,\u001b[0m \u001b[1;33m**\u001b[0m\u001b[0mkwargs\u001b[0m\u001b[1;33m)\u001b[0m\u001b[1;33m\u001b[0m\u001b[1;33m\u001b[0m\u001b[0m\n\u001b[0m\u001b[0;32m    195\u001b[0m         \u001b[0mmod\u001b[0m\u001b[1;33m.\u001b[0m\u001b[0mformula\u001b[0m \u001b[1;33m=\u001b[0m \u001b[0mformula\u001b[0m\u001b[1;33m\u001b[0m\u001b[1;33m\u001b[0m\u001b[0m\n\u001b[0;32m    196\u001b[0m \u001b[1;33m\u001b[0m\u001b[0m\n",
      "\u001b[1;32m~\\anaconda3\\lib\\site-packages\\statsmodels\\discrete\\discrete_model.py\u001b[0m in \u001b[0;36m__init__\u001b[1;34m(self, endog, exog, **kwargs)\u001b[0m\n\u001b[0;32m    435\u001b[0m         if (not issubclass(self.__class__, MultinomialModel) and\n\u001b[0;32m    436\u001b[0m                 not np.all((self.endog >= 0) & (self.endog <= 1))):\n\u001b[1;32m--> 437\u001b[1;33m             \u001b[1;32mraise\u001b[0m \u001b[0mValueError\u001b[0m\u001b[1;33m(\u001b[0m\u001b[1;34m\"endog must be in the unit interval.\"\u001b[0m\u001b[1;33m)\u001b[0m\u001b[1;33m\u001b[0m\u001b[1;33m\u001b[0m\u001b[0m\n\u001b[0m\u001b[0;32m    438\u001b[0m \u001b[1;33m\u001b[0m\u001b[0m\n\u001b[0;32m    439\u001b[0m \u001b[1;33m\u001b[0m\u001b[0m\n",
      "\u001b[1;31mValueError\u001b[0m: endog must be in the unit interval."
     ]
    }
   ],
   "source": [
    "Logit_Model=logit(\"Apple~Microsoft\",data=MSFT_APPLE_DFrame)\n",
    "Logit_Estimates=Logit_Model.fit()\n",
    "print(Logit_Estimates.summary())"
   ]
  },
  {
   "cell_type": "code",
   "execution_count": null,
   "metadata": {},
   "outputs": [],
   "source": []
  }
 ],
 "metadata": {
  "kernelspec": {
   "display_name": "Python 3",
   "language": "python",
   "name": "python3"
  },
  "language_info": {
   "codemirror_mode": {
    "name": "ipython",
    "version": 3
   },
   "file_extension": ".py",
   "mimetype": "text/x-python",
   "name": "python",
   "nbconvert_exporter": "python",
   "pygments_lexer": "ipython3",
   "version": "3.8.3"
  }
 },
 "nbformat": 4,
 "nbformat_minor": 4
}
